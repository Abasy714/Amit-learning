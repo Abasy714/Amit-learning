{
 "cells": [
  {
   "cell_type": "markdown",
   "metadata": {},
   "source": [
    "### Q1. Write a program to calculate the area of a rectangle with given length and width.\n",
    "    area = length * width"
   ]
  },
  {
   "cell_type": "code",
   "execution_count": null,
   "metadata": {},
   "outputs": [],
   "source": [
    "L = int(input('Enter length of rectangle:'))\n",
    "W = int(input('Enter width of rectangle:'))\n",
    "A = L*W\n",
    "print(f'The area is {A}')"
   ]
  },
  {
   "cell_type": "markdown",
   "metadata": {},
   "source": [
    "### Q2. Write a program that takes an integer input from the user and prints whether it's even or odd.\n",
    "    Even Numbers: 0, 2, 4, 6, 8, ...\n",
    "    OOD Numbers: 1, 3, 5, 7, 9, ..."
   ]
  },
  {
   "cell_type": "code",
   "execution_count": null,
   "metadata": {},
   "outputs": [],
   "source": [
    "x = int(input('Enter an integer number:'))\n",
    "if x%2 == 0 :\n",
    "    print('Even number entered')\n",
    "else :\n",
    "    print('Odd number entered') "
   ]
  },
  {
   "cell_type": "markdown",
   "metadata": {},
   "source": [
    "### Q3. Write a program that takes a three-digit number as input and calculates the sum of its digits."
   ]
  },
  {
   "cell_type": "code",
   "execution_count": null,
   "metadata": {},
   "outputs": [],
   "source": [
    "x = int(input('Enter A 3 digit number:'))\n",
    "flag = str(x)\n",
    "if len(flag)==3:\n",
    " x_1 = x//100\n",
    " y = x-x_1*100\n",
    " x_2 = y//10\n",
    " x_3 = y - x_2*10\n",
    " sum = x_1 + x_2 + x_3\n",
    " print(f'The sum of the 3 digit number is {sum}')\n",
    "else:\n",
    " print('please enter a three digit number')"
   ]
  },
  {
   "cell_type": "markdown",
   "metadata": {},
   "source": [
    "### Q4. Create two strings and concatenate them to form a third string."
   ]
  },
  {
   "cell_type": "code",
   "execution_count": null,
   "metadata": {},
   "outputs": [],
   "source": [
    "s_1 = input('Enter a string:')\n",
    "s_2 = input('Enter a second string:')\n",
    "print(s_1,s_2,sep='')"
   ]
  },
  {
   "cell_type": "markdown",
   "metadata": {},
   "source": [
    "### Q5. Write a program that compares two numbers and prints whether the first number is greater, smaller, or equal to the second number."
   ]
  },
  {
   "cell_type": "code",
   "execution_count": null,
   "metadata": {},
   "outputs": [],
   "source": [
    "x=int(input('Enter a number:'))\n",
    "y=int(input('Enter a second number:'))\n",
    "if x>y :\n",
    "    print(f'the first number {x} is greater than the second number {y}')\n",
    "elif x<y :\n",
    "    print(f'the first number {x} is less than the second number {y}')\n",
    "elif x==y :\n",
    "    print(f'the first number {x} is equal to the second number {y}')"
   ]
  },
  {
   "cell_type": "markdown",
   "metadata": {},
   "source": [
    "### Q6. Write a program that takes a string as input and prints it in reverse order.\n",
    "    ahmed => demha"
   ]
  },
  {
   "cell_type": "code",
   "execution_count": null,
   "metadata": {},
   "outputs": [],
   "source": [
    "s = input('Enter a string:')\n",
    "x = s[::-1]\n",
    "print(f'{s} => {x}')"
   ]
  },
  {
   "cell_type": "markdown",
   "metadata": {},
   "source": [
    "### Q7. Write a program that takes a number as input and prints \"Positive\" if it's greater than 0, \"Negative\" if it's less than 0, and \"Zero\" if it's equal to 0."
   ]
  },
  {
   "cell_type": "code",
   "execution_count": null,
   "metadata": {},
   "outputs": [],
   "source": [
    "x = int(input('Enter a number:'))\n",
    "if x > 0 :\n",
    "    print('Positive')\n",
    "elif x<0:\n",
    "    print('Negative')\n",
    "else:\n",
    "    print('Zero')"
   ]
  },
  {
   "cell_type": "markdown",
   "metadata": {},
   "source": [
    "### Q8. Write a program that converts Fahrenheit to Celsius. Take Fahrenheit as input from the user.\n",
    "    Temperature in degrees Celsius (°C) = (Temperature in degrees Fahrenheit (°F) - 32) * 5/9"
   ]
  },
  {
   "cell_type": "code",
   "execution_count": null,
   "metadata": {},
   "outputs": [],
   "source": [
    "T_F= int(input('Enter temperature in degrees fahrenheit'))\n",
    "T_C= (T_F - 32)*(5/9)\n",
    "print(f'Temperature in degrees Celsius = {T_C} °C')"
   ]
  },
  {
   "cell_type": "markdown",
   "metadata": {},
   "source": [
    "### Q9. Write a program that takes a string as input and counts the number of characters in it.\n",
    "    ahmed => 5"
   ]
  },
  {
   "cell_type": "code",
   "execution_count": null,
   "metadata": {},
   "outputs": [],
   "source": [
    "s=input('Enter a string')\n",
    "l = len(s)\n",
    "print(f'{s} => {l}')"
   ]
  },
  {
   "cell_type": "markdown",
   "metadata": {},
   "source": [
    "### Q10. Write a program that takes three numbers as input and prints the maximum of those numbers."
   ]
  },
  {
   "cell_type": "code",
   "execution_count": null,
   "metadata": {},
   "outputs": [],
   "source": [
    "x = int(input('Enter first number:'))\n",
    "y = int(input('Enter second number:'))\n",
    "z = int(input('Enter third number:'))\n",
    "l=[x,y,z]\n",
    "maximum = max(l)\n",
    "print(f'The maximum of those numbers is: {maximum}')"
   ]
  },
  {
   "cell_type": "markdown",
   "metadata": {},
   "source": [
    "### Q11. Create two lists and concatenate them to form a third list."
   ]
  },
  {
   "cell_type": "code",
   "execution_count": null,
   "metadata": {},
   "outputs": [],
   "source": [
    "L_1 = list(input('Enter a list:'))\n",
    "L_2 = list(input('Enter a second list:'))\n",
    "L_1.extend(L_2)\n",
    "print(L_1)"
   ]
  },
  {
   "cell_type": "markdown",
   "metadata": {},
   "source": [
    "### Q12. Write a program that takes a string as input and checks whether it's a palindrome.\n",
    "    radar, level, madam, ..."
   ]
  },
  {
   "cell_type": "code",
   "execution_count": null,
   "metadata": {},
   "outputs": [],
   "source": [
    "s=input('Enter a string:')\n",
    "l=len(s)\n",
    "flag=0\n",
    "for i in range(0,l//2):\n",
    "    if(s[i] != s[l-i-1]):\n",
    "        flag=1\n",
    "        break\n",
    "if flag==0:\n",
    "    print(f'The word {s} is a palindrome')\n",
    "else:\n",
    "    print(f'The word {s} is not a palindrome')"
   ]
  },
  {
   "cell_type": "markdown",
   "metadata": {},
   "source": [
    "### Q13. Write a program that takes three numbers as input and prints their average."
   ]
  },
  {
   "cell_type": "code",
   "execution_count": null,
   "metadata": {},
   "outputs": [],
   "source": [
    "x=int(input('Enter first number:'))\n",
    "y=int(input('Enter second number:'))\n",
    "z=int(input('Enter third number:'))\n",
    "avg=(x+y+z)/3\n",
    "print(f'The average of the three numbers is {avg}')"
   ]
  },
  {
   "cell_type": "markdown",
   "metadata": {},
   "source": [
    "### Q14. Write a program that takes two numbers as input and checks whether the first number is divisible by the second number."
   ]
  },
  {
   "cell_type": "code",
   "execution_count": null,
   "metadata": {},
   "outputs": [],
   "source": [
    "x=int(input('Enter first number:'))\n",
    "y=int(input('Enter second number:'))\n",
    "if x%y==0:\n",
    "    print(f'{x} is divisble by {y}')\n",
    "else:\n",
    "        print(f'{x} is not divisble by {y}')"
   ]
  },
  {
   "cell_type": "markdown",
   "metadata": {},
   "source": [
    "### Q15. Write a program that takes two numbers and an operator (+, -, *, /) as input and performs the corresponding operation."
   ]
  },
  {
   "cell_type": "code",
   "execution_count": null,
   "metadata": {},
   "outputs": [],
   "source": [
    "x=int(input('Enter first number:'))\n",
    "y=int(input('Enter second number:'))\n",
    "opt=input('Enter an operator:')\n",
    "if opt=='+':\n",
    "    p=x+y\n",
    "elif opt=='*':\n",
    "    p=x*y\n",
    "elif opt=='/':\n",
    "    p=x/y\n",
    "elif opt=='-':\n",
    "    p=x-y\n",
    "print(f'{x} {opt} {y} = {p}')"
   ]
  },
  {
   "cell_type": "markdown",
   "metadata": {},
   "source": [
    "### Q16. Write a program that takes three numbers as input and prints the minimum of those numbers."
   ]
  },
  {
   "cell_type": "code",
   "execution_count": null,
   "metadata": {},
   "outputs": [],
   "source": [
    "x = int(input('Enter first number:'))\n",
    "y = int(input('Enter second number:'))\n",
    "z = int(input('Enter third number:'))\n",
    "l=[x,y,z]\n",
    "minimum = min(l)\n",
    "print(f'The minimum of those numbers is: {minimum}')"
   ]
  },
  {
   "cell_type": "markdown",
   "metadata": {},
   "source": [
    "### Q17. Write a program that takes a string as input and prints its length."
   ]
  },
  {
   "cell_type": "code",
   "execution_count": null,
   "metadata": {},
   "outputs": [],
   "source": [
    "s=input('Enter a string:')\n",
    "l=len(s)\n",
    "print(f'the word {s} consists of {l} letters')"
   ]
  },
  {
   "cell_type": "markdown",
   "metadata": {},
   "source": [
    "### Q18. Create a list of numbers and write a program to find the sum of all elements in the list."
   ]
  },
  {
   "cell_type": "code",
   "execution_count": null,
   "metadata": {},
   "outputs": [],
   "source": [
    "l= (1,2,3,4,5,6)\n",
    "sum_total = sum(l)\n",
    "print(sum_total)"
   ]
  },
  {
   "cell_type": "markdown",
   "metadata": {},
   "source": [
    "### Q19. Write a program that takes a string as input and prints it in both uppercase and lowercase."
   ]
  },
  {
   "cell_type": "code",
   "execution_count": null,
   "metadata": {},
   "outputs": [],
   "source": [
    "s=input('Enter a string')\n",
    "print(f'the word {s} in uppercase: {s.upper()} and in lowercase: {s.lower()}')"
   ]
  }
 ],
 "metadata": {
  "kernelspec": {
   "display_name": "Python 3",
   "language": "python",
   "name": "python3"
  },
  "language_info": {
   "codemirror_mode": {
    "name": "ipython",
    "version": 3
   },
   "file_extension": ".py",
   "mimetype": "text/x-python",
   "name": "python",
   "nbconvert_exporter": "python",
   "pygments_lexer": "ipython3",
   "version": "3.9.13"
  }
 },
 "nbformat": 4,
 "nbformat_minor": 2
}
