{
 "cells": [
  {
   "cell_type": "markdown",
   "metadata": {},
   "source": [
    "### Q1. Write a program to calculate the area of a rectangle with given length and width.\n",
    "    area = length * width"
   ]
  },
  {
   "cell_type": "code",
   "execution_count": 2,
   "metadata": {},
   "outputs": [
    {
     "name": "stdout",
     "output_type": "stream",
     "text": [
      "The area is 120\n"
     ]
    }
   ],
   "source": [
    "L = int(input('Enter length of rectangle:'))\n",
    "W = int(input('Enter width of rectangle:'))\n",
    "A = L*W\n",
    "print(f'The area is {A}')"
   ]
  },
  {
   "cell_type": "markdown",
   "metadata": {},
   "source": [
    "### Q2. Write a program that takes an integer input from the user and prints whether it's even or odd.\n",
    "    Even Numbers: 0, 2, 4, 6, 8, ...\n",
    "    OOD Numbers: 1, 3, 5, 7, 9, ..."
   ]
  },
  {
   "cell_type": "code",
   "execution_count": 4,
   "metadata": {},
   "outputs": [
    {
     "name": "stdout",
     "output_type": "stream",
     "text": [
      "Odd number entered\n"
     ]
    }
   ],
   "source": [
    "x = int(input('Enter an integer number:'))\n",
    "if x%2 == 0 :\n",
    "    print('Even number entered')\n",
    "else :\n",
    "    print('Odd number entered')"
   ]
  },
  {
   "cell_type": "markdown",
   "metadata": {},
   "source": [
    "### Q3. Write a program that takes a three-digit number as input and calculates the sum of its digits."
   ]
  },
  {
   "cell_type": "code",
   "execution_count": 12,
   "metadata": {},
   "outputs": [
    {
     "name": "stdout",
     "output_type": "stream",
     "text": [
      "The sum of the 3 digit number is 18\n"
     ]
    }
   ],
   "source": [
    "x = int(input('Enter A 3 digit number:'))\n",
    "x_1 = x//100\n",
    "y = x-x_1*100\n",
    "x_2 = y//10\n",
    "x_3 = y - x_2*10\n",
    "sum = x_1 + x_2 + x_3\n",
    "print(f'The sum of the 3 digit number is {sum}')"
   ]
  },
  {
   "cell_type": "markdown",
   "metadata": {},
   "source": [
    "### Q4. Create two strings and concatenate them to form a third string."
   ]
  },
  {
   "cell_type": "code",
   "execution_count": 13,
   "metadata": {},
   "outputs": [
    {
     "name": "stdout",
     "output_type": "stream",
     "text": [
      "yesno\n"
     ]
    }
   ],
   "source": [
    "s_1 = input('Enter a string:')\n",
    "s_2 = input('Enter a second string:')\n",
    "print(s_1,s_2,sep='')"
   ]
  },
  {
   "cell_type": "markdown",
   "metadata": {},
   "source": [
    "### Q5. Write a program that compares two numbers and prints whether the first number is greater, smaller, or equal to the second number."
   ]
  },
  {
   "cell_type": "code",
   "execution_count": 16,
   "metadata": {},
   "outputs": [
    {
     "name": "stdout",
     "output_type": "stream",
     "text": [
      "the first number 8 is equal to the second number 8\n"
     ]
    }
   ],
   "source": [
    "x=int(input('Enter a number:'))\n",
    "y=int(input('Enter a second number:'))\n",
    "if x>y :\n",
    "    print(f'the first number {x} is greater than the second number {y}')\n",
    "elif x<y :\n",
    "    print(f'the first number {x} is less than the second number {y}')\n",
    "elif x==y :\n",
    "    print(f'the first number {x} is equal to the second number {y}')"
   ]
  },
  {
   "cell_type": "markdown",
   "metadata": {},
   "source": [
    "### Q6. Write a program that takes a string as input and prints it in reverse order.\n",
    "    ahmed => demha"
   ]
  },
  {
   "cell_type": "code",
   "execution_count": 46,
   "metadata": {},
   "outputs": [
    {
     "name": "stdout",
     "output_type": "stream",
     "text": [
      "ahmed => demha\n"
     ]
    }
   ],
   "source": [
    "s = input('Enter a string:')\n",
    "x = s[::-1]\n",
    "print(f'{s} => {x}')"
   ]
  },
  {
   "cell_type": "markdown",
   "metadata": {},
   "source": [
    "### Q7. Write a program that takes a number as input and prints \"Positive\" if it's greater than 0, \"Negative\" if it's less than 0, and \"Zero\" if it's equal to 0."
   ]
  },
  {
   "cell_type": "code",
   "execution_count": 42,
   "metadata": {},
   "outputs": [
    {
     "name": "stdout",
     "output_type": "stream",
     "text": [
      "Zero\n"
     ]
    }
   ],
   "source": [
    "x = int(input('Enter a number:'))\n",
    "if x > 0 :\n",
    "    print('Positive')\n",
    "elif x<0:\n",
    "    print('Negative')\n",
    "else:\n",
    "    print('Zero')"
   ]
  },
  {
   "cell_type": "markdown",
   "metadata": {},
   "source": [
    "### Q8. Write a program that converts Fahrenheit to Celsius. Take Fahrenheit as input from the user.\n",
    "    Temperature in degrees Celsius (°C) = (Temperature in degrees Fahrenheit (°F) - 32) * 5/9"
   ]
  },
  {
   "cell_type": "code",
   "execution_count": 43,
   "metadata": {},
   "outputs": [
    {
     "name": "stdout",
     "output_type": "stream",
     "text": [
      "Temperature in degrees Celsius = 10.0 °C\n"
     ]
    }
   ],
   "source": [
    "T_F= int(input('Enter temperature in degrees fahrenheit'))\n",
    "T_C= (T_F - 32)*(5/9)\n",
    "print(f'Temperature in degrees Celsius = {T_C} °C')"
   ]
  },
  {
   "cell_type": "markdown",
   "metadata": {},
   "source": [
    "### Q9. Write a program that takes a string as input and counts the number of characters in it.\n",
    "    ahmed => 5"
   ]
  },
  {
   "cell_type": "code",
   "execution_count": 45,
   "metadata": {},
   "outputs": [
    {
     "name": "stdout",
     "output_type": "stream",
     "text": [
      "ahmed => 5\n"
     ]
    }
   ],
   "source": [
    "s=input('Enter a string')\n",
    "l = len(s)\n",
    "print(f'{s} => {l}')"
   ]
  },
  {
   "cell_type": "markdown",
   "metadata": {},
   "source": [
    "### Q10. Write a program that takes three numbers as input and prints the maximum of those numbers."
   ]
  },
  {
   "cell_type": "code",
   "execution_count": null,
   "metadata": {},
   "outputs": [],
   "source": [
    "x = int(input('Enter first number:'))\n",
    "y = int(input('Enter second number:'))\n",
    "z = int(input('Enter third number:'))\n",
    "l=[x,y,z]\n",
    "maximum = max(l)\n",
    "print(f'The maximum of those numbers is: {maximum}')"
   ]
  },
  {
   "cell_type": "code",
   "execution_count": 60,
   "metadata": {},
   "outputs": [
    {
     "name": "stdout",
     "output_type": "stream",
     "text": [
      "The biggest number is the third number 4\n"
     ]
    }
   ],
   "source": [
    "f_x =0\n",
    "f_y=0\n",
    "x = int(input('Enter first number:'))\n",
    "y = int(input('Enter second number:'))\n",
    "z = int(input('Enter third number:'))\n",
    "if x>y:\n",
    "    max = x\n",
    "    f_x = 1\n",
    "elif x<y:\n",
    "    max = y\n",
    "    f_y = 1\n",
    "if max < z:\n",
    "    print(f'The biggest number is the third number {z}')\n",
    "elif max>z:\n",
    "    if f_x == 1:\n",
    "        print(f'The biggest number is the first number {x}')\n",
    "    elif f_y == 1:\n",
    "        print(f'The biggest number is the second number {y}')\n"
   ]
  },
  {
   "cell_type": "markdown",
   "metadata": {},
   "source": [
    "### Q11. Create two lists and concatenate them to form a third list."
   ]
  },
  {
   "cell_type": "code",
   "execution_count": 70,
   "metadata": {},
   "outputs": [
    {
     "name": "stdout",
     "output_type": "stream",
     "text": [
      "['1', '2', '3', '4', '5', '6', '1', '7', '8', '9', '0']\n"
     ]
    }
   ],
   "source": [
    "L_1 = list(input('Enter a list:'))\n",
    "L_2 = list(input('Enter a second list:'))\n",
    "L_1.extend(L_2)\n",
    "print(L_1)"
   ]
  },
  {
   "cell_type": "markdown",
   "metadata": {},
   "source": [
    "### Q12. Write a program that takes a string as input and checks whether it's a palindrome.\n",
    "    radar, level, madam, ..."
   ]
  },
  {
   "cell_type": "code",
   "execution_count": 91,
   "metadata": {},
   "outputs": [
    {
     "name": "stdout",
     "output_type": "stream",
     "text": [
      "The word madam is a palindrome\n"
     ]
    }
   ],
   "source": [
    "s=input('Enter a string:')\n",
    "l=len(s)\n",
    "flag=0\n",
    "for i in range(0,l//2):\n",
    "    if(s[i] != s[l-i-1]):\n",
    "        flag=1\n",
    "        break\n",
    "if flag==0:\n",
    "    print(f'The word {s} is a palindrome')\n",
    "else:\n",
    "    print(f'The word {s} is not a palindrome')"
   ]
  },
  {
   "cell_type": "markdown",
   "metadata": {},
   "source": [
    "### Q13. Write a program that takes three numbers as input and prints their average."
   ]
  },
  {
   "cell_type": "code",
   "execution_count": 82,
   "metadata": {},
   "outputs": [
    {
     "name": "stdout",
     "output_type": "stream",
     "text": [
      "The average of the three numbers is 6.0\n"
     ]
    }
   ],
   "source": [
    "x=int(input('Enter first number:'))\n",
    "y=int(input('Enter second number:'))\n",
    "z=int(input('Enter third number:'))\n",
    "avg=(x+y+z)/3\n",
    "print(f'The average of the three numbers is {avg}')"
   ]
  },
  {
   "cell_type": "markdown",
   "metadata": {},
   "source": [
    "### Q14. Write a program that takes two numbers as input and checks whether the first number is divisible by the second number."
   ]
  },
  {
   "cell_type": "code",
   "execution_count": 93,
   "metadata": {},
   "outputs": [
    {
     "name": "stdout",
     "output_type": "stream",
     "text": [
      "2 is divisble by 1\n"
     ]
    }
   ],
   "source": [
    "x=int(input('Enter first number:'))\n",
    "y=int(input('Enter second number:'))\n",
    "if x%y==0:\n",
    "    print(f'{x} is divisble by {y}')\n",
    "else:\n",
    "        print(f'{x} is not divisble by {y}')"
   ]
  },
  {
   "cell_type": "markdown",
   "metadata": {},
   "source": [
    "### Q15. Write a program that takes two numbers and an operator (+, -, *, /) as input and performs the corresponding operation."
   ]
  },
  {
   "cell_type": "code",
   "execution_count": 133,
   "metadata": {},
   "outputs": [
    {
     "name": "stdout",
     "output_type": "stream",
     "text": [
      "2 + 3 = 5\n"
     ]
    }
   ],
   "source": [
    "x=int(input('Enter first number:'))\n",
    "y=int(input('Enter second number:'))\n",
    "opt=input('Enter an operator:')\n",
    "if opt=='+':\n",
    "    p=x+y\n",
    "elif opt=='*':\n",
    "    p=x*y\n",
    "elif opt=='/':\n",
    "    p=x/y\n",
    "elif opt=='-':\n",
    "    p=x-y\n",
    "print(f'{x} {opt} {y} = {p}')"
   ]
  },
  {
   "cell_type": "markdown",
   "metadata": {},
   "source": [
    "### Q16. Write a program that takes three numbers as input and prints the minimum of those numbers."
   ]
  },
  {
   "cell_type": "code",
   "execution_count": 3,
   "metadata": {},
   "outputs": [
    {
     "ename": "TypeError",
     "evalue": "'int' object is not callable",
     "output_type": "error",
     "traceback": [
      "\u001b[1;31m---------------------------------------------------------------------------\u001b[0m",
      "\u001b[1;31mTypeError\u001b[0m                                 Traceback (most recent call last)",
      "Cell \u001b[1;32mIn[3], line 5\u001b[0m\n\u001b[0;32m      3\u001b[0m z \u001b[38;5;241m=\u001b[39m \u001b[38;5;28mint\u001b[39m(\u001b[38;5;28minput\u001b[39m(\u001b[38;5;124m'\u001b[39m\u001b[38;5;124mEnter third number:\u001b[39m\u001b[38;5;124m'\u001b[39m))\n\u001b[0;32m      4\u001b[0m l\u001b[38;5;241m=\u001b[39m[x,y,z]\n\u001b[1;32m----> 5\u001b[0m minimum \u001b[38;5;241m=\u001b[39m \u001b[38;5;28;43mmin\u001b[39;49m\u001b[43m(\u001b[49m\u001b[43ml\u001b[49m\u001b[43m)\u001b[49m\n\u001b[0;32m      6\u001b[0m \u001b[38;5;28mprint\u001b[39m(\u001b[38;5;124mf\u001b[39m\u001b[38;5;124m'\u001b[39m\u001b[38;5;124mThe minimum of those numbers is: \u001b[39m\u001b[38;5;132;01m{\u001b[39;00mminimum\u001b[38;5;132;01m}\u001b[39;00m\u001b[38;5;124m'\u001b[39m)\n",
      "\u001b[1;31mTypeError\u001b[0m: 'int' object is not callable"
     ]
    }
   ],
   "source": [
    "x = int(input('Enter first number:'))\n",
    "y = int(input('Enter second number:'))\n",
    "z = int(input('Enter third number:'))\n",
    "l=[x,y,z]\n",
    "minimum = min(l)\n",
    "print(f'The minimum of those numbers is: {minimum}')"
   ]
  },
  {
   "cell_type": "code",
   "execution_count": 1,
   "metadata": {},
   "outputs": [],
   "source": [
    "f_x=0\n",
    "f_y=0\n",
    "min=99999\n",
    "x = int(input('Enter first number:'))\n",
    "y = int(input('Enter second number:'))\n",
    "z = int(input('Enter third number:'))\n",
    "if x<y:\n",
    "    min = x\n",
    "    f_x=1\n",
    "elif x>y:\n",
    "    min = y\n",
    "    f_y=1\n",
    "if min > z:\n",
    "    print(f'The smallest number is the third number {z}')\n",
    "elif min>z:\n",
    "    if f_x==1:\n",
    "        print(f'The smallest number is the first number {x}')\n",
    "    elif f_y==1:\n",
    "        print(f'The smallest number is the second number {y}')"
   ]
  },
  {
   "cell_type": "code",
   "execution_count": 118,
   "metadata": {},
   "outputs": [
    {
     "data": {
      "text/plain": [
       "[4, 5, 6]"
      ]
     },
     "execution_count": 118,
     "metadata": {},
     "output_type": "execute_result"
    }
   ],
   "source": [
    "x = int(input('Enter first number:'))\n",
    "y = int(input('Enter second number:'))\n",
    "z = int(input('Enter third number:'))\n",
    "l=[0,0,0]\n",
    "l.clear()\n",
    "l.extend([x,y,z])\n",
    "l\n",
    "min(l)"
   ]
  },
  {
   "cell_type": "markdown",
   "metadata": {},
   "source": [
    "### Q17. Write a program that takes a string as input and prints its length."
   ]
  },
  {
   "cell_type": "code",
   "execution_count": 120,
   "metadata": {},
   "outputs": [
    {
     "name": "stdout",
     "output_type": "stream",
     "text": [
      "the word ahmed consists of 5 letters\n"
     ]
    }
   ],
   "source": [
    "s=input('Enter a string:')\n",
    "l=len(s)\n",
    "print(f'the word {s} consists of {l} letters')"
   ]
  },
  {
   "cell_type": "markdown",
   "metadata": {},
   "source": [
    "### Q18. Create a list of numbers and write a program to find the sum of all elements in the list."
   ]
  },
  {
   "cell_type": "code",
   "execution_count": 2,
   "metadata": {},
   "outputs": [
    {
     "ename": "TypeError",
     "evalue": "unsupported operand type(s) for +: 'int' and 'str'",
     "output_type": "error",
     "traceback": [
      "\u001b[1;31m---------------------------------------------------------------------------\u001b[0m",
      "\u001b[1;31mTypeError\u001b[0m                                 Traceback (most recent call last)",
      "Cell \u001b[1;32mIn[2], line 2\u001b[0m\n\u001b[0;32m      1\u001b[0m L \u001b[38;5;241m=\u001b[39m \u001b[38;5;28mlist\u001b[39m(\u001b[38;5;28minput\u001b[39m(\u001b[38;5;124m'\u001b[39m\u001b[38;5;124mEnter a list of numbers\u001b[39m\u001b[38;5;124m'\u001b[39m))\n\u001b[1;32m----> 2\u001b[0m total_sum \u001b[38;5;241m=\u001b[39m \u001b[38;5;28;43msum\u001b[39;49m\u001b[43m(\u001b[49m\u001b[43mL\u001b[49m\u001b[43m)\u001b[49m\n\u001b[0;32m      3\u001b[0m \u001b[38;5;28mprint\u001b[39m(\u001b[38;5;124mf\u001b[39m\u001b[38;5;124m\"\u001b[39m\u001b[38;5;124mThe sum of the numbers in the list is: \u001b[39m\u001b[38;5;132;01m{\u001b[39;00mtotal_sum\u001b[38;5;132;01m}\u001b[39;00m\u001b[38;5;124m\"\u001b[39m)\n",
      "\u001b[1;31mTypeError\u001b[0m: unsupported operand type(s) for +: 'int' and 'str'"
     ]
    }
   ],
   "source": [
    "L = list(input('Enter a list of numbers'))\n",
    "total_sum = sum(L)\n",
    "print(f\"The sum of the numbers in the list is: {total_sum}\")"
   ]
  },
  {
   "cell_type": "markdown",
   "metadata": {},
   "source": [
    "### Q19. Write a program that takes a string as input and prints it in both uppercase and lowercase."
   ]
  },
  {
   "cell_type": "code",
   "execution_count": 123,
   "metadata": {},
   "outputs": [
    {
     "name": "stdout",
     "output_type": "stream",
     "text": [
      "the word AbaSy in uppercase: ABASY and in lowercase: abasy\n"
     ]
    }
   ],
   "source": [
    "s=input('Enter a string')\n",
    "print(f'the word {s} in uppercase: {s.upper()} and in lowercase: {s.lower()}')"
   ]
  }
 ],
 "metadata": {
  "kernelspec": {
   "display_name": "Python 3",
   "language": "python",
   "name": "python3"
  },
  "language_info": {
   "codemirror_mode": {
    "name": "ipython",
    "version": 3
   },
   "file_extension": ".py",
   "mimetype": "text/x-python",
   "name": "python",
   "nbconvert_exporter": "python",
   "pygments_lexer": "ipython3",
   "version": "3.9.13"
  }
 },
 "nbformat": 4,
 "nbformat_minor": 2
}
