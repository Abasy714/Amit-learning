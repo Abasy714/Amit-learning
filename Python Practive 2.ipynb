{
 "cells": [
  {
   "cell_type": "markdown",
   "metadata": {},
   "source": [
    "### Q2. Write a program that takes two numbers as input and checks whether the first number is divisible by the second number."
   ]
  },
  {
   "cell_type": "code",
   "execution_count": null,
   "metadata": {},
   "outputs": [],
   "source": [
    "num_1 = int(input('Enter first number:'))\n",
    "num_2 = int(input('Enter second number:'))\n",
    "if num_1%num_2 == 0:\n",
    "    print(f'{num_1} is divisble by {num_2}')\n",
    "else:\n",
    "    print(f'{num_1} is not divisble by {num_2}')"
   ]
  },
  {
   "cell_type": "markdown",
   "metadata": {},
   "source": [
    "### Q3. Write a program to print the first five odd numbers."
   ]
  },
  {
   "cell_type": "code",
   "execution_count": null,
   "metadata": {},
   "outputs": [],
   "source": [
    "l=[1,2,3,4,5,6,7,8,9,10,12,13,15,17,18]\n",
    "flag = 0\n",
    "c=0\n",
    "while flag==0:\n",
    "    for i in l:\n",
    "        if i%2==0:\n",
    "            pass\n",
    "        else:\n",
    "            print(i,end=',')\n",
    "            c=c+1\n",
    "        if c==5:\n",
    "          flag=1\n",
    "          break      "
   ]
  },
  {
   "cell_type": "markdown",
   "metadata": {},
   "source": [
    "### Q4. Create a list of numbers and write a program to find the sum of all elements in the list."
   ]
  },
  {
   "cell_type": "code",
   "execution_count": null,
   "metadata": {},
   "outputs": [],
   "source": [
    "l=[1,2,3,4,13,26]\n",
    "print(sum(l))"
   ]
  },
  {
   "cell_type": "markdown",
   "metadata": {},
   "source": [
    "### Q5. Write a program that takes a year as input and prints whether it's a leap year.\n",
    "    Every year that is exactly divisible by four is a leap year, except for years that are exactly divisible by 100, but these centurial years are leap years if they are exactly divisible by 400. For example, the years 1700, 1800, and 1900 are not leap years, but the years 1600 and 2000 are."
   ]
  },
  {
   "cell_type": "code",
   "execution_count": null,
   "metadata": {},
   "outputs": [],
   "source": [
    "year = int(input('Enter a year:'))\n",
    "if year%4==0:\n",
    "    if year%100==0:\n",
    "        if year%400==0:\n",
    "            print(f'{year} is a leap year')\n",
    "        else:\n",
    "         print(f'{year} is a centurial year')\n",
    "    else:\n",
    "        print(f'{year} is a leap year')      \n",
    "else:\n",
    "    print(f'{year} is not a leap year') "
   ]
  },
  {
   "cell_type": "markdown",
   "metadata": {},
   "source": [
    "### Q6. Write a program that takes a string as input and prints it in both uppercase and lowercase."
   ]
  },
  {
   "cell_type": "code",
   "execution_count": null,
   "metadata": {},
   "outputs": [],
   "source": [
    "str=input('Enter a string:')\n",
    "print(f'the word {str} in uppercase is : {str.upper()} and in lowercase is : {str.lower()}')"
   ]
  },
  {
   "cell_type": "markdown",
   "metadata": {},
   "source": [
    "### Q7. Create a list of five elements and remove the third element."
   ]
  },
  {
   "cell_type": "code",
   "execution_count": null,
   "metadata": {},
   "outputs": [],
   "source": [
    "l=[1,2,3,4,5]\n",
    "l.pop(2)\n",
    "l"
   ]
  },
  {
   "cell_type": "markdown",
   "metadata": {},
   "source": [
    "### Q9. Create a list of numbers and write a program to sort it in ascending order."
   ]
  },
  {
   "cell_type": "code",
   "execution_count": null,
   "metadata": {},
   "outputs": [],
   "source": [
    "l=[1,23,5,9,1,7,2,8,10]\n",
    "l.sort()\n",
    "l"
   ]
  },
  {
   "cell_type": "markdown",
   "metadata": {},
   "source": [
    "### Q10. Write a program to print the multiplication table of a given number."
   ]
  },
  {
   "cell_type": "code",
   "execution_count": null,
   "metadata": {},
   "outputs": [],
   "source": [
    "num= int(input('Enter a number:'))\n",
    "table=[]\n",
    "for i in range(13):\n",
    "    table.append(num*i)\n",
    "print(f'the multiplication table of {num} is {table}')"
   ]
  },
  {
   "cell_type": "markdown",
   "metadata": {},
   "source": [
    "### Q11. Write a Python function square(num) that takes a number as input and returns its square."
   ]
  },
  {
   "cell_type": "code",
   "execution_count": null,
   "metadata": {},
   "outputs": [],
   "source": [
    "def square(num):\n",
    "    ans=num*num\n",
    "    return ans\n",
    "num = int(input('Enter a number:'))\n",
    "square(num)"
   ]
  },
  {
   "cell_type": "markdown",
   "metadata": {},
   "source": [
    "### Q12. Write a Python function sum_of_digits(number) that takes an integer as input and returns the sum of its digits."
   ]
  },
  {
   "cell_type": "code",
   "execution_count": null,
   "metadata": {},
   "outputs": [],
   "source": [
    "def sum_of_digits(num):\n",
    "    l=len(num)\n",
    "    sum =0\n",
    "    for i in range(0,l):\n",
    "     sum = sum + int(num[i])\n",
    "    print(f'the sum of the digits is {sum}')\n",
    "num = input('Enter a number:')\n",
    "sum_of_digits(num)"
   ]
  },
  {
   "cell_type": "markdown",
   "metadata": {},
   "source": [
    "### Q13. Write a Python function reverse_string(s) that takes a string as input and returns the string in reverse order."
   ]
  },
  {
   "cell_type": "code",
   "execution_count": null,
   "metadata": {},
   "outputs": [],
   "source": [
    "def reverse_string(s):\n",
    "    new_s=s[::-1]\n",
    "    print(f'{s} => {new_s}')\n",
    "s=input('Enter a word:')\n",
    "reverse_string(s)"
   ]
  },
  {
   "cell_type": "markdown",
   "metadata": {},
   "source": [
    "### Q14. Write a Python function word_count(sentence) that takes a sentence as input and returns the number of words in the sentence."
   ]
  },
  {
   "cell_type": "code",
   "execution_count": null,
   "metadata": {},
   "outputs": [],
   "source": [
    "def word_count(sentence):\n",
    "    l=len(sentence.split())\n",
    "    print(f'the number of words in this sentence is {l}')\n",
    "sentence=input('Enter a sentence:')\n",
    "word_count(sentence)"
   ]
  },
  {
   "cell_type": "markdown",
   "metadata": {},
   "source": [
    "### Q15. Write a Python function remove_elements(lst, n) that takes a list and an index n as input and removes the element at index n from the list."
   ]
  },
  {
   "cell_type": "code",
   "execution_count": null,
   "metadata": {},
   "outputs": [],
   "source": [
    "def remove_elements(lst, n):\n",
    "    lst.pop(n)\n",
    "    return lst\n",
    "lst=[1,2,3,4,5,6,7,8,9]\n",
    "n=int(input('Enter an index:'))\n",
    "remove_elements(lst,n)"
   ]
  },
  {
   "cell_type": "markdown",
   "metadata": {},
   "source": [
    "### Q16. Write a Python function duplicate_list(lst) that takes a list as input and returns a new list that duplicates the elements of the original list."
   ]
  },
  {
   "cell_type": "code",
   "execution_count": null,
   "metadata": {},
   "outputs": [],
   "source": [
    "def duplicate_list(lst):\n",
    "    lst.extend(lst)\n",
    "    return lst\n",
    "lst=[1,2,3,4,5]\n",
    "duplicate_list(lst)"
   ]
  },
  {
   "cell_type": "markdown",
   "metadata": {},
   "source": [
    "### Q17. Write a Python function is_divisible(num1, num2) that takes two numbers as input and returns True if the first number is divisible by the second number, and False otherwise."
   ]
  },
  {
   "cell_type": "code",
   "execution_count": null,
   "metadata": {},
   "outputs": [],
   "source": [
    "def is_divisible(num1,num2):\n",
    "    if num1%num2 == 0:\n",
    "     return True\n",
    "    else:\n",
    "     return False\n",
    "num1 = int(input('Enter first number:'))\n",
    "num2 = int(input('Enter second number:'))\n",
    "is_divisible(num1,num2)"
   ]
  },
  {
   "cell_type": "markdown",
   "metadata": {},
   "source": [
    "### Q18. Write a Python function power(base, exponent) that takes a base and an exponent as input and returns the result of the base raised to the exponent."
   ]
  },
  {
   "cell_type": "code",
   "execution_count": null,
   "metadata": {},
   "outputs": [],
   "source": [
    "def power(base,exponent):\n",
    "    flag=0\n",
    "    ans=base\n",
    "    if exponent==0:\n",
    "        if base==0:\n",
    "           flag =1\n",
    "        ans = 1\n",
    "    else:\n",
    "     for i in range(exponent-1):\n",
    "        ans = ans*base\n",
    "    if flag==0:\n",
    "      return ans\n",
    "    elif flag==1:\n",
    "       print(\"Error you can't perform this operation\")\n",
    "base=int(input('Enter a base:'))\n",
    "exponent=int(input('Enter a exponent:'))\n",
    "power(base,exponent)"
   ]
  },
  {
   "cell_type": "markdown",
   "metadata": {},
   "source": [
    "### Q19. Write a program which will find all such numbers which are divisible by 7 but are not divisible by 5, between 2000 and 3000 (both included). The numbers obtained should be printed in a comma-separated sequence on a single line.\n"
   ]
  },
  {
   "cell_type": "code",
   "execution_count": null,
   "metadata": {},
   "outputs": [],
   "source": [
    "for i in range(2000,3000):\n",
    "    if i%7==0 and i%5!=0:\n",
    "        print(i,end=\",\")"
   ]
  },
  {
   "cell_type": "markdown",
   "metadata": {},
   "source": [
    "### 20. Write a program which can compute the factorial of a given numbers. The results should be printed in a comma-separated sequence on a single line.\n",
    "    5 8\n",
    "    Then, the output should be:\n",
    "    120,40320"
   ]
  },
  {
   "cell_type": "code",
   "execution_count": null,
   "metadata": {},
   "outputs": [],
   "source": [
    "def fact(num):\n",
    "    if num == 0:\n",
    "        return 1\n",
    "    else:\n",
    "        return num * fact(num - 1)\n",
    "    return ans\n",
    "num_1=int(input('Enter a number:'))\n",
    "num_2=int(input('Enter second number:'))\n",
    "print(fact(num_1),fact(num_2),sep=',')"
   ]
  },
  {
   "cell_type": "markdown",
   "metadata": {},
   "source": [
    "### 21. With a given integral number n, write a program to generate a dictionary that contains (i, i*i) such that is an integral number between 1 and n (both included). and then the program should print the dictionary.\n",
    "    Suppose the following input is supplied to the program:\n",
    "    8\n",
    "    Then, the output should be:\n",
    "    {1: 1, 2: 4, 3: 9, 4: 16, 5: 25, 6: 36, 7: 49, 8: 64}"
   ]
  },
  {
   "cell_type": "code",
   "execution_count": null,
   "metadata": {},
   "outputs": [],
   "source": [
    "n = int(input('Enter a number:'))\n",
    "d_1={}\n",
    "for i in range(1,n+1):\n",
    "    d={i: i*i}\n",
    "    d_1.update(d)\n",
    "d_1"
   ]
  },
  {
   "cell_type": "markdown",
   "metadata": {},
   "source": [
    "### 22. Write a program which accepts a sequence of comma-separated numbers from console and generate a list and a tuple which contains every number. Suppose the following input is supplied to the program:\n",
    "    34,67,55,33,12,98\n",
    "    Then, the output should be:\n",
    "    ['34', '67', '55', '33', '12', '98']\n",
    "    ('34', '67', '55', '33', '12', '98')"
   ]
  },
  {
   "cell_type": "code",
   "execution_count": null,
   "metadata": {},
   "outputs": [],
   "source": [
    "str = input(\"Enter a sequence of comma-separated numbers: \")\n",
    "lst = str.split(',')\n",
    "tup = tuple(lst)\n",
    "print(\"List:\", lst)\n",
    "print(\"Tuple:\",tup)"
   ]
  },
  {
   "cell_type": "markdown",
   "metadata": {},
   "source": [
    "### 23. Write a program that calculates and prints the value according to the given formula:\n",
    "    Q = Square root of [(2 * C * D) / H], \n",
    "        C is 50. H is 30.\n",
    "        D is the variable whose values should be input to your program in a comma-separated sequence.\n",
    "\n",
    "- Example\n",
    "    - Let us assume the following comma separated input sequence is given to the program:\n",
    "        100,150,180\n",
    "    - The output of the program should be:\n",
    "        18,22,24"
   ]
  },
  {
   "cell_type": "code",
   "execution_count": null,
   "metadata": {},
   "outputs": [],
   "source": [
    "import math\n",
    "str = input(\"Enter a sequence of comma-separated numbers: \")\n",
    "lst = str.split(',')\n",
    "C=50\n",
    "H=30\n",
    "for i,j in enumerate(lst):\n",
    "    Q=(2*C*int(j))/H\n",
    "    if i==len(lst)-1:\n",
    "     print(math.sqrt(Q))\n",
    "    else:\n",
    "       print(math.sqrt(Q),end=\",\")"
   ]
  },
  {
   "cell_type": "markdown",
   "metadata": {},
   "source": [
    "### 24. Write a program which takes 2 digits, X,Y as input and generates a 2-dimensional array. The element value in the i-th row and j-th column of the array should be i*j.\n",
    "    Example\n",
    "        Suppose the following inputs are given to the program:\n",
    "        3,5\n",
    "        Then, the output of the program should be:\n",
    "        [[0, 0, 0, 0, 0], [0, 1, 2, 3, 4], [0, 2, 4, 6, 8]] "
   ]
  },
  {
   "cell_type": "code",
   "execution_count": null,
   "metadata": {},
   "outputs": [],
   "source": [
    "str = input(\"Enter a sequence of comma-separated numbers: \")\n",
    "lst = str.split(',')\n",
    "c=1\n",
    "for i in lst:\n",
    "    if c==1:\n",
    "        x=int(i)\n",
    "        c=c+1\n",
    "    else:\n",
    "        y=int(i)\n",
    "array=[]\n",
    "for i in range(x):\n",
    "    row=[]\n",
    "    for j in range(y):\n",
    "        row.append(i*j)\n",
    "    array.append(row)\n",
    "print(array)"
   ]
  },
  {
   "cell_type": "markdown",
   "metadata": {},
   "source": [
    "### 25. Write a program that accepts a sequence of whitespace separated words as input and prints the words after removing all duplicate words and sorting them alphanumerically. Suppose the following input is supplied to the program:\n",
    "    hello world and practice makes perfect and hello world again\n",
    "    Then, the output should be:\n",
    "    again and hello makes perfect practice world"
   ]
  },
  {
   "cell_type": "code",
   "execution_count": null,
   "metadata": {},
   "outputs": [],
   "source": [
    "str = input(\"Enter a sequence of whitespace separated words: \")\n",
    "lst = str.split(' ')\n",
    "new_lst=sorted(set(lst))\n",
    "print(\" \".join(new_lst))"
   ]
  },
  {
   "cell_type": "markdown",
   "metadata": {},
   "source": [
    "### 26.Write a program which accepts a sequence of comma separated 4 digit binary numbers as its input and then check whether they are divisible by 5 or not. The numbers that are divisible by 5 are to be printed in a comma separated sequence.\n",
    "\n",
    "    Example:\n",
    "    0100,0011,1010,1001\n",
    "    Then the output should be:\n",
    "    1010"
   ]
  },
  {
   "cell_type": "code",
   "execution_count": null,
   "metadata": {},
   "outputs": [],
   "source": [
    "str = input(\"Enter a sequence of comma separated numbers: \")\n",
    "lst = str.split(',')\n",
    "new_lst=[]\n",
    "flag=0\n",
    "for i in lst:\n",
    "    if int(i)>1111 or int(i)<0000:\n",
    "        print('Error wrong input')\n",
    "        flag=1\n",
    "        break\n",
    "if flag==0:\n",
    " for i in lst:\n",
    "     if int(i)%5==0:\n",
    "         new_lst=int(i)\n",
    " print(new_lst)"
   ]
  },
  {
   "cell_type": "markdown",
   "metadata": {},
   "source": [
    "### 27. Write a program, which will find all such numbers between 1000 and 3000 (both included) such that each digit of the number is an even number. The numbers obtained should be printed in a comma-separated sequence on a single line.\n"
   ]
  },
  {
   "cell_type": "code",
   "execution_count": null,
   "metadata": {},
   "outputs": [],
   "source": [
    "for i in range(1000,3001):\n",
    "    if i%2==0:\n",
    "        if i==3000:\n",
    "         print(i)\n",
    "        else:\n",
    "           print(i,end=',')"
   ]
  },
  {
   "cell_type": "markdown",
   "metadata": {},
   "source": [
    "### 28. Write a program that accepts a sentence and calculate the number of letters and digits. Suppose the following input is supplied to the program:\n",
    "\n",
    "    \"hello world 123\"\n",
    "    Then, the output should be:\n",
    "        LETTERS 10\n",
    "        DIGITS 3"
   ]
  },
  {
   "cell_type": "code",
   "execution_count": null,
   "metadata": {},
   "outputs": [],
   "source": [
    "sent=input('Enter a sentence:')\n",
    "let = 0\n",
    "dig = 0\n",
    "for i in sent:\n",
    "    if i.isalpha():\n",
    "        let +=1\n",
    "    elif i.isdigit():\n",
    "        dig +=1\n",
    "print(f'The sentence {sent} has:')\n",
    "print(f' {let} Letters')\n",
    "print(f' {dig} Digits')"
   ]
  },
  {
   "cell_type": "markdown",
   "metadata": {},
   "source": [
    "### 29. Write a program that accepts a sentence and calculate the number of upper case letters and lower case letters. Suppose the following input is supplied to the program:\n",
    "\n",
    "    Hello World\n",
    "    Then, the output should be:\n",
    "        UPPER CASE 2\n",
    "        LOWER CASE 8"
   ]
  },
  {
   "cell_type": "code",
   "execution_count": null,
   "metadata": {},
   "outputs": [],
   "source": [
    "sent=input('Enter a sentence:')\n",
    "up=0\n",
    "lc=0\n",
    "for i in sent:\n",
    "    if i.isupper():\n",
    "       up +=1\n",
    "    elif i.islower():\n",
    "        lc +=1\n",
    "print(f'The sentence {sent} has:')\n",
    "print(f' {up} UPPER CASE')\n",
    "print(f' {lc} LOWER CASE')"
   ]
  },
  {
   "cell_type": "markdown",
   "metadata": {},
   "source": [
    "### 30. Use a list comprehension to square each odd number in a list. The list is input by a sequence of comma-separated numbers. Suppose the following input is supplied to the program:\n",
    "    1,2,3,4,5,6,7,8,9\n",
    "    Then, the output should be:\n",
    "    1,9,25,49,81"
   ]
  },
  {
   "cell_type": "code",
   "execution_count": null,
   "metadata": {},
   "outputs": [],
   "source": [
    "nums=input('Enter a sequence of comma-separated numbers:')\n",
    "lst=nums.split(',')\n",
    "new_lst=[]\n",
    "for i in lst:\n",
    "    x=int(i)\n",
    "    if x%2!=0:\n",
    "       print(x*x,end=',')"
   ]
  },
  {
   "cell_type": "markdown",
   "metadata": {},
   "source": [
    "### 31. You are required to write a program to sort the (name, age, height) tuples by ascending order where name is string, age and height are numbers. The tuples are input by console. The sort criteria is:\n",
    "    1: Sort based on name;\n",
    "    2: Then sort based on age;\n",
    "    3: Then sort by score.\n",
    "    The priority is that name > age > score.\n",
    "\n",
    "    If the following tuples are given as input to the program:\n",
    "        Tom,19,80\n",
    "        John,20,90\n",
    "        Jony,17,91\n",
    "        Jony,17,93\n",
    "        Json,21,85\n",
    "    Then, the output of the program should be:\n",
    "    [('John', '20', '90'), ('Jony', '17', '91'), ('Jony', '17', '93'), ('Json', '21', '85'), ('Tom', '19', '80')]\n"
   ]
  },
  {
   "cell_type": "code",
   "execution_count": null,
   "metadata": {},
   "outputs": [],
   "source": [
    "def custom_sort(tuples):\n",
    "    return sorted(tuples, key=lambda x: (x[0], int(x[1]), int(x[2])))\n",
    "y_n='yes'\n",
    "lst=[]\n",
    "while y_n=='yes':\n",
    "    info = input('Enter user.info')\n",
    "    y_n=input('Enter do you want to enter another tuple (yes/no)')\n",
    "    lst_1=info.split(',')\n",
    "    lst.append(tuple(lst_1))\n",
    "custom_sort(lst)\n"
   ]
  },
  {
   "cell_type": "markdown",
   "metadata": {},
   "source": [
    "### 32. Define a function that can accept an integer number as input and print the \"It is an even number\" if the number is even, otherwise print \"It is an odd number\"."
   ]
  },
  {
   "cell_type": "code",
   "execution_count": null,
   "metadata": {},
   "outputs": [],
   "source": [
    "is_even = lambda x : x%2 == 0\n",
    "num = int(input('Enter a number:'))\n",
    "if is_even(num):\n",
    "    print('It is an even number')\n",
    "else:\n",
    "    print('It is an odd number')"
   ]
  },
  {
   "cell_type": "markdown",
   "metadata": {},
   "source": [
    "### 33.The Fibonacci Sequence is computed based on the following formula:\n",
    "    f(n)=0 if n=0\n",
    "    f(n)=1 if n=1\n",
    "    f(n)=f(n-1)+f(n-2) if n>1\n",
    "\n",
    "- Please write a program using list comprehension to print the Fibonacci Sequence in comma separated form with a given n input by console.\n",
    "\n",
    "- Example:\n",
    "\n",
    "    If the following n is given as input to the program:\n",
    "    7\n",
    "    Then, the output of the program should be:\n",
    "    0,1,1,2,3,5,8"
   ]
  },
  {
   "cell_type": "code",
   "execution_count": null,
   "metadata": {},
   "outputs": [],
   "source": [
    "n=int(input('Enter a given number:'))\n",
    "lst = [0,1]\n",
    "if n==0:\n",
    "    print(0)\n",
    "elif n==1:\n",
    "    print(1)\n",
    "elif n>1:\n",
    "    for i in range(2,n):\n",
    "        lst.append(lst[-1]+lst[-2])\n",
    "    print(*lst,sep=',')    \n",
    "\n",
    "        "
   ]
  },
  {
   "cell_type": "markdown",
   "metadata": {},
   "source": [
    "### 47. Create a tuple with three elements and unpack it into three variables."
   ]
  },
  {
   "cell_type": "code",
   "execution_count": null,
   "metadata": {},
   "outputs": [],
   "source": [
    "tup = (10,'Abasy',14)\n",
    "var1,var2,var3=tup\n",
    "print('Var1:', var1)\n",
    "print('Var2:', var2)\n",
    "print('Var3:', var3)"
   ]
  },
  {
   "cell_type": "markdown",
   "metadata": {},
   "source": [
    "### 48. Create a dictionary representing a person with keys \"name,\" \"age,\" and \"city.\""
   ]
  },
  {
   "cell_type": "code",
   "execution_count": null,
   "metadata": {},
   "outputs": [],
   "source": [
    "dict={'name':('Abasy'),'Age':(17),'City':('Cairo')}"
   ]
  },
  {
   "cell_type": "markdown",
   "metadata": {},
   "source": [
    "### 49. Access and print the value associated with the \"age\" key in the dictionary"
   ]
  },
  {
   "cell_type": "code",
   "execution_count": null,
   "metadata": {},
   "outputs": [],
   "source": [
    "dict.get('Age')"
   ]
  },
  {
   "cell_type": "markdown",
   "metadata": {},
   "source": [
    "### 50. Update the age in the dictionary to a new value."
   ]
  },
  {
   "cell_type": "code",
   "execution_count": null,
   "metadata": {},
   "outputs": [],
   "source": [
    "dict['Age']=20"
   ]
  },
  {
   "cell_type": "markdown",
   "metadata": {},
   "source": [
    "### 51. Iterate through the keys and values in the dictionary and print them."
   ]
  },
  {
   "cell_type": "code",
   "execution_count": null,
   "metadata": {},
   "outputs": [],
   "source": [
    "print(dict.keys(),dict.values())"
   ]
  },
  {
   "cell_type": "markdown",
   "metadata": {},
   "source": [
    "### 52. Find and print the number of key-value pairs in the dictionary."
   ]
  },
  {
   "cell_type": "code",
   "execution_count": null,
   "metadata": {},
   "outputs": [],
   "source": [
    "len(dict)"
   ]
  },
  {
   "cell_type": "markdown",
   "metadata": {},
   "source": [
    "### 53. Remove the \"city\" key from the dictionary."
   ]
  },
  {
   "cell_type": "code",
   "execution_count": null,
   "metadata": {},
   "outputs": [],
   "source": [
    "dict.pop('City')"
   ]
  },
  {
   "cell_type": "markdown",
   "metadata": {},
   "source": [
    "### 54. Check if the \"gender\" key exists in the dictionary and print the result."
   ]
  },
  {
   "cell_type": "code",
   "execution_count": null,
   "metadata": {},
   "outputs": [],
   "source": [
    "if 'gender' in dict:\n",
    "    print('the \"gender\" key exists')\n",
    "else:\n",
    "    print('the \"gender\" key doesn\\'t exist')"
   ]
  },
  {
   "cell_type": "markdown",
   "metadata": {},
   "source": [
    "### 55. Create a second dictionary with additional information and merge it with the original dictionary."
   ]
  },
  {
   "cell_type": "code",
   "execution_count": null,
   "metadata": {},
   "outputs": [],
   "source": [
    "dict_2={'gender':'male','major':'engineering','year':1}\n",
    "dict.update(dict_2)"
   ]
  },
  {
   "cell_type": "markdown",
   "metadata": {},
   "source": [
    "### 56. Write a program to get the keys of the dictionary as a list."
   ]
  },
  {
   "cell_type": "code",
   "execution_count": null,
   "metadata": {},
   "outputs": [],
   "source": [
    "print(dict.keys())"
   ]
  },
  {
   "cell_type": "markdown",
   "metadata": {},
   "source": [
    "### 57. Write a program to get the values of the dictionary as a list."
   ]
  },
  {
   "cell_type": "code",
   "execution_count": null,
   "metadata": {},
   "outputs": [],
   "source": [
    "lst_dict = list(dict.values())\n",
    "print(lst_dict)"
   ]
  },
  {
   "cell_type": "markdown",
   "metadata": {},
   "source": [
    "### 58. Remove the key-value pair with the \"name\" key from the dictionary."
   ]
  },
  {
   "cell_type": "code",
   "execution_count": null,
   "metadata": {},
   "outputs": [],
   "source": [
    "dict.pop('name')"
   ]
  },
  {
   "cell_type": "markdown",
   "metadata": {},
   "source": [
    "### 59. Clear all items from the dictionary."
   ]
  },
  {
   "cell_type": "code",
   "execution_count": null,
   "metadata": {},
   "outputs": [],
   "source": [
    "dict.clear()"
   ]
  },
  {
   "cell_type": "markdown",
   "metadata": {},
   "source": [
    "### 60. Write a program to print the dictionary keys in sorted order."
   ]
  },
  {
   "cell_type": "code",
   "execution_count": null,
   "metadata": {},
   "outputs": [],
   "source": [
    "lst_key_dict = list(dict.keys())\n",
    "sorted(lst_key_dict)"
   ]
  },
  {
   "cell_type": "markdown",
   "metadata": {},
   "source": [
    "### 61. Write a program to print the dictionary values in sorted order."
   ]
  },
  {
   "cell_type": "code",
   "execution_count": null,
   "metadata": {},
   "outputs": [],
   "source": [
    "dict={'Mohamed':10,'ahmed':20,'abasy':7,'ismail':12}\n",
    "lst_values_dict = list(dict.values())\n",
    "sorted(lst_values_dict)"
   ]
  },
  {
   "cell_type": "markdown",
   "metadata": {},
   "source": [
    "### 62. Find and print the key with the maximum value in the dictionary."
   ]
  },
  {
   "cell_type": "code",
   "execution_count": null,
   "metadata": {},
   "outputs": [],
   "source": [
    "max(dict.values())"
   ]
  },
  {
   "cell_type": "markdown",
   "metadata": {},
   "source": [
    "### 63. Find and print the key with the minimum value in the dictionary."
   ]
  },
  {
   "cell_type": "code",
   "execution_count": null,
   "metadata": {},
   "outputs": [],
   "source": [
    "min(dict.values())"
   ]
  },
  {
   "cell_type": "markdown",
   "metadata": {},
   "source": [
    "### 64. Use dictionary comprehension to create a dictionary with squares of numbers from 1 to 5."
   ]
  },
  {
   "cell_type": "code",
   "execution_count": null,
   "metadata": {},
   "outputs": [],
   "source": [
    "square_num={num: num**2 for num in range(1,6)}\n",
    "print(square_num)"
   ]
  },
  {
   "cell_type": "markdown",
   "metadata": {},
   "source": [
    "### 65. Swap the keys and values in the dictionary and print the result."
   ]
  },
  {
   "cell_type": "code",
   "execution_count": null,
   "metadata": {},
   "outputs": [],
   "source": [
    "swapped_dict = {value: key for key, value in square_num.items()}\n",
    "print(swapped_dict)"
   ]
  },
  {
   "cell_type": "markdown",
   "metadata": {},
   "source": [
    "### 66. Create a list of integers with values 1 to 5."
   ]
  },
  {
   "cell_type": "code",
   "execution_count": null,
   "metadata": {},
   "outputs": [],
   "source": [
    "int_lst = [1,2,3,4,5]"
   ]
  },
  {
   "cell_type": "markdown",
   "metadata": {},
   "source": [
    "### 67. Access and print the third element of the list."
   ]
  },
  {
   "cell_type": "code",
   "execution_count": null,
   "metadata": {},
   "outputs": [],
   "source": [
    "third_element = int_lst[2]\n",
    "print(third_element)"
   ]
  },
  {
   "cell_type": "markdown",
   "metadata": {},
   "source": [
    "### 68. Modify the second element of the list to have a new value."
   ]
  },
  {
   "cell_type": "code",
   "execution_count": null,
   "metadata": {},
   "outputs": [],
   "source": [
    "int_lst[1]=5"
   ]
  },
  {
   "cell_type": "markdown",
   "metadata": {},
   "source": [
    "### 69. Find and print the number of elements in the list."
   ]
  },
  {
   "cell_type": "code",
   "execution_count": null,
   "metadata": {},
   "outputs": [],
   "source": [
    "print(len(int_lst))"
   ]
  },
  {
   "cell_type": "markdown",
   "metadata": {},
   "source": [
    "### 70. Add a new element to the end of the list."
   ]
  },
  {
   "cell_type": "code",
   "execution_count": null,
   "metadata": {},
   "outputs": [],
   "source": [
    "int_lst.append(8)"
   ]
  },
  {
   "cell_type": "markdown",
   "metadata": {},
   "source": [
    "### 71. Create two lists and concatenate them into a new list."
   ]
  },
  {
   "cell_type": "code",
   "execution_count": null,
   "metadata": {},
   "outputs": [],
   "source": [
    "lst_1=[1,2,3,4,5]\n",
    "lst_2=[6,7,8,9,10]\n",
    "lst_1.extend(lst_2)\n",
    "print(lst_1)"
   ]
  },
  {
   "cell_type": "markdown",
   "metadata": {},
   "source": [
    "### 72. Repeat the list three times and print the result."
   ]
  },
  {
   "cell_type": "code",
   "execution_count": null,
   "metadata": {},
   "outputs": [],
   "source": [
    "lst_1=[1,2,3,4,5]\n",
    "lst_2=[6,7,8,9,10]\n",
    "lst_4 = []\n",
    "for i in range(3):\n",
    "    lst_3 = lst_1 + lst_2\n",
    "    lst_4.extend(lst_3)\n",
    "print(lst_4)"
   ]
  },
  {
   "cell_type": "markdown",
   "metadata": {},
   "source": [
    "### 73. Create a list of numbers from 1 to 10 and print only the elements from index 3 to 7."
   ]
  },
  {
   "cell_type": "code",
   "execution_count": null,
   "metadata": {},
   "outputs": [],
   "source": [
    "lst=[i for i in range(1,11)]\n",
    "for i in range(3,8):\n",
    "    if i!=7:\n",
    "       print(lst[i],end=',')\n",
    "    elif i==7:\n",
    "        print(lst[i])"
   ]
  },
  {
   "cell_type": "markdown",
   "metadata": {},
   "source": [
    "### 74. Use a loop to print each element of the list."
   ]
  },
  {
   "cell_type": "code",
   "execution_count": null,
   "metadata": {},
   "outputs": [],
   "source": [
    "for i in range(len(lst)):\n",
    "    if i==len(lst)-1:\n",
    "       print(lst[i])\n",
    "    else:\n",
    "      print(lst[i],end=',')"
   ]
  },
  {
   "cell_type": "markdown",
   "metadata": {},
   "source": [
    "### 75. Write a program to sort the list in ascending order."
   ]
  },
  {
   "cell_type": "code",
   "execution_count": null,
   "metadata": {},
   "outputs": [],
   "source": [
    "unsorted_lst = [9,10,2,6,4,7,3,5,8,1]\n",
    "sorted(unsorted_lst)"
   ]
  },
  {
   "cell_type": "markdown",
   "metadata": {},
   "source": [
    "### 76. Reverse the order of elements in the list."
   ]
  },
  {
   "cell_type": "code",
   "execution_count": null,
   "metadata": {},
   "outputs": [],
   "source": [
    "unsorted_lst = [9,10,2,6,4,7,3,5,8,1]\n",
    "sorted(unsorted_lst, reverse=True)"
   ]
  },
  {
   "cell_type": "markdown",
   "metadata": {},
   "source": [
    "### 77. Remove the third element from the list."
   ]
  },
  {
   "cell_type": "code",
   "execution_count": null,
   "metadata": {},
   "outputs": [],
   "source": [
    "unsorted_lst = [9,10,2,6,4,7,3,5,8,1]\n",
    "unsorted_lst.remove(2)\n",
    "print(unsorted_lst)"
   ]
  },
  {
   "cell_type": "markdown",
   "metadata": {},
   "source": [
    "### 78. Clear all elements from the list."
   ]
  },
  {
   "cell_type": "code",
   "execution_count": null,
   "metadata": {},
   "outputs": [],
   "source": [
    "unsorted_lst = [9,10,2,6,4,7,3,5,8,1]\n",
    "unsorted_lst.clear()\n",
    "print(unsorted_lst)"
   ]
  },
  {
   "cell_type": "markdown",
   "metadata": {},
   "source": [
    "### 79. Use list comprehension to create a list of squares of numbers from 1 to 5."
   ]
  },
  {
   "cell_type": "code",
   "execution_count": null,
   "metadata": {},
   "outputs": [],
   "source": [
    "square_lst=[i**2 for i in range(1,5)]\n",
    "print(square_lst)"
   ]
  },
  {
   "cell_type": "markdown",
   "metadata": {},
   "source": [
    "### 80. Create a list with three elements and unpack it into three variables."
   ]
  },
  {
   "cell_type": "code",
   "execution_count": null,
   "metadata": {},
   "outputs": [],
   "source": [
    "pack_lst = [12,34,56]\n",
    "var1 , var2, var3 = pack_lst\n",
    "print('Var1:',var1)\n",
    "print('Var2:',var2)\n",
    "print('Var3:',var3)"
   ]
  }
 ],
 "metadata": {
  "kernelspec": {
   "display_name": "Python 3",
   "language": "python",
   "name": "python3"
  },
  "language_info": {
   "codemirror_mode": {
    "name": "ipython",
    "version": 3
   },
   "file_extension": ".py",
   "mimetype": "text/x-python",
   "name": "python",
   "nbconvert_exporter": "python",
   "pygments_lexer": "ipython3",
   "version": "3.12.4"
  }
 },
 "nbformat": 4,
 "nbformat_minor": 2
}
